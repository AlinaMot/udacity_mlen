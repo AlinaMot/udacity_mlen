{
 "cells": [
  {
   "cell_type": "code",
   "execution_count": 1,
   "metadata": {
    "collapsed": true
   },
   "outputs": [],
   "source": [
    "import os\n",
    "import sys\n",
    "import datetime\n",
    "\n",
    "import pandas as pd\n",
    "import numpy as np\n",
    "from math import radians, sin, cos, acos\n",
    "import json\n",
    "\n",
    "import sqlite3\n",
    "\n",
    "%matplotlib inline\n",
    "from matplotlib import patheffects\n",
    "import matplotlib.pyplot as plt\n",
    "import seaborn as sns\n",
    "\n",
    "plt.style.use('seaborn')"
   ]
  },
  {
   "cell_type": "code",
   "execution_count": 2,
   "metadata": {
    "collapsed": true
   },
   "outputs": [],
   "source": [
    "# Prepare the data\n",
    "folder=\"../../../../../../Data/\""
   ]
  },
  {
   "cell_type": "markdown",
   "metadata": {},
   "source": [
    "# Visualisation"
   ]
  },
  {
   "cell_type": "markdown",
   "metadata": {},
   "source": [
    "## RTE consumption date"
   ]
  },
  {
   "cell_type": "code",
   "execution_count": 3,
   "metadata": {},
   "outputs": [
    {
     "data": {
      "text/html": [
       "<div>\n",
       "<style>\n",
       "    .dataframe thead tr:only-child th {\n",
       "        text-align: right;\n",
       "    }\n",
       "\n",
       "    .dataframe thead th {\n",
       "        text-align: left;\n",
       "    }\n",
       "\n",
       "    .dataframe tbody tr th {\n",
       "        vertical-align: top;\n",
       "    }\n",
       "</style>\n",
       "<table border=\"1\" class=\"dataframe\">\n",
       "  <thead>\n",
       "    <tr style=\"text-align: right;\">\n",
       "      <th></th>\n",
       "      <th>tstp</th>\n",
       "      <th>consumption</th>\n",
       "      <th>quality</th>\n",
       "      <th>day</th>\n",
       "      <th>hour</th>\n",
       "    </tr>\n",
       "  </thead>\n",
       "  <tbody>\n",
       "    <tr>\n",
       "      <th>0</th>\n",
       "      <td>2008-07-06 10:00:00</td>\n",
       "      <td>44486</td>\n",
       "      <td>Definitive</td>\n",
       "      <td>2008-07-06</td>\n",
       "      <td>10:00:00</td>\n",
       "    </tr>\n",
       "    <tr>\n",
       "      <th>1</th>\n",
       "      <td>2008-07-06 11:00:00</td>\n",
       "      <td>46270</td>\n",
       "      <td>Definitive</td>\n",
       "      <td>2008-07-06</td>\n",
       "      <td>11:00:00</td>\n",
       "    </tr>\n",
       "    <tr>\n",
       "      <th>2</th>\n",
       "      <td>2008-07-06 11:30:00</td>\n",
       "      <td>44801</td>\n",
       "      <td>Definitive</td>\n",
       "      <td>2008-07-06</td>\n",
       "      <td>11:30:00</td>\n",
       "    </tr>\n",
       "    <tr>\n",
       "      <th>3</th>\n",
       "      <td>2008-07-06 13:00:00</td>\n",
       "      <td>41919</td>\n",
       "      <td>Definitive</td>\n",
       "      <td>2008-07-06</td>\n",
       "      <td>13:00:00</td>\n",
       "    </tr>\n",
       "    <tr>\n",
       "      <th>4</th>\n",
       "      <td>2008-07-06 14:30:00</td>\n",
       "      <td>40135</td>\n",
       "      <td>Definitive</td>\n",
       "      <td>2008-07-06</td>\n",
       "      <td>14:30:00</td>\n",
       "    </tr>\n",
       "  </tbody>\n",
       "</table>\n",
       "</div>"
      ],
      "text/plain": [
       "                 tstp  consumption     quality         day      hour\n",
       "0 2008-07-06 10:00:00        44486  Definitive  2008-07-06  10:00:00\n",
       "1 2008-07-06 11:00:00        46270  Definitive  2008-07-06  11:00:00\n",
       "2 2008-07-06 11:30:00        44801  Definitive  2008-07-06  11:30:00\n",
       "3 2008-07-06 13:00:00        41919  Definitive  2008-07-06  13:00:00\n",
       "4 2008-07-06 14:30:00        40135  Definitive  2008-07-06  14:30:00"
      ]
     },
     "execution_count": 3,
     "metadata": {},
     "output_type": "execute_result"
    }
   ],
   "source": [
    "df_30m_nationalconsumption=pd.read_csv(folder+\"RTE/csv_extract/30m_national_consumption.csv\")\n",
    "df_30m_nationalconsumption[\"tstp\"]=pd.to_datetime(df_30m_nationalconsumption[\"tstp\"])\n",
    "df_30m_nationalconsumption.head()"
   ]
  },
  {
   "cell_type": "code",
   "execution_count": 4,
   "metadata": {},
   "outputs": [
    {
     "name": "stderr",
     "output_type": "stream",
     "text": [
      "C:\\Users\\daign\\Anaconda3\\envs\\dev_dataanalytics_36\\lib\\site-packages\\ipykernel_launcher.py:3: SettingWithCopyWarning: \n",
      "A value is trying to be set on a copy of a slice from a DataFrame.\n",
      "Try using .loc[row_indexer,col_indexer] = value instead\n",
      "\n",
      "See the caveats in the documentation: http://pandas.pydata.org/pandas-docs/stable/indexing.html#indexing-view-versus-copy\n",
      "  This is separate from the ipykernel package so we can avoid doing imports until\n",
      "C:\\Users\\daign\\Anaconda3\\envs\\dev_dataanalytics_36\\lib\\site-packages\\ipykernel_launcher.py:4: SettingWithCopyWarning: \n",
      "A value is trying to be set on a copy of a slice from a DataFrame.\n",
      "Try using .loc[row_indexer,col_indexer] = value instead\n",
      "\n",
      "See the caveats in the documentation: http://pandas.pydata.org/pandas-docs/stable/indexing.html#indexing-view-versus-copy\n",
      "  after removing the cwd from sys.path.\n",
      "C:\\Users\\daign\\Anaconda3\\envs\\dev_dataanalytics_36\\lib\\site-packages\\ipykernel_launcher.py:5: SettingWithCopyWarning: \n",
      "A value is trying to be set on a copy of a slice from a DataFrame.\n",
      "Try using .loc[row_indexer,col_indexer] = value instead\n",
      "\n",
      "See the caveats in the documentation: http://pandas.pydata.org/pandas-docs/stable/indexing.html#indexing-view-versus-copy\n",
      "  \"\"\"\n",
      "C:\\Users\\daign\\Anaconda3\\envs\\dev_dataanalytics_36\\lib\\site-packages\\ipykernel_launcher.py:6: SettingWithCopyWarning: \n",
      "A value is trying to be set on a copy of a slice from a DataFrame.\n",
      "Try using .loc[row_indexer,col_indexer] = value instead\n",
      "\n",
      "See the caveats in the documentation: http://pandas.pydata.org/pandas-docs/stable/indexing.html#indexing-view-versus-copy\n",
      "  \n",
      "C:\\Users\\daign\\Anaconda3\\envs\\dev_dataanalytics_36\\lib\\site-packages\\ipykernel_launcher.py:7: SettingWithCopyWarning: \n",
      "A value is trying to be set on a copy of a slice from a DataFrame.\n",
      "Try using .loc[row_indexer,col_indexer] = value instead\n",
      "\n",
      "See the caveats in the documentation: http://pandas.pydata.org/pandas-docs/stable/indexing.html#indexing-view-versus-copy\n",
      "  import sys\n",
      "C:\\Users\\daign\\Anaconda3\\envs\\dev_dataanalytics_36\\lib\\site-packages\\ipykernel_launcher.py:8: SettingWithCopyWarning: \n",
      "A value is trying to be set on a copy of a slice from a DataFrame.\n",
      "Try using .loc[row_indexer,col_indexer] = value instead\n",
      "\n",
      "See the caveats in the documentation: http://pandas.pydata.org/pandas-docs/stable/indexing.html#indexing-view-versus-copy\n",
      "  \n",
      "C:\\Users\\daign\\Anaconda3\\envs\\dev_dataanalytics_36\\lib\\site-packages\\ipykernel_launcher.py:9: SettingWithCopyWarning: \n",
      "A value is trying to be set on a copy of a slice from a DataFrame.\n",
      "Try using .loc[row_indexer,col_indexer] = value instead\n",
      "\n",
      "See the caveats in the documentation: http://pandas.pydata.org/pandas-docs/stable/indexing.html#indexing-view-versus-copy\n",
      "  if __name__ == '__main__':\n"
     ]
    },
    {
     "data": {
      "text/html": [
       "<div>\n",
       "<style>\n",
       "    .dataframe thead tr:only-child th {\n",
       "        text-align: right;\n",
       "    }\n",
       "\n",
       "    .dataframe thead th {\n",
       "        text-align: left;\n",
       "    }\n",
       "\n",
       "    .dataframe tbody tr th {\n",
       "        vertical-align: top;\n",
       "    }\n",
       "</style>\n",
       "<table border=\"1\" class=\"dataframe\">\n",
       "  <thead>\n",
       "    <tr style=\"text-align: right;\">\n",
       "      <th></th>\n",
       "      <th>tstp</th>\n",
       "      <th>consumption</th>\n",
       "      <th>quality</th>\n",
       "      <th>day</th>\n",
       "      <th>hour</th>\n",
       "      <th>energy</th>\n",
       "      <th>month</th>\n",
       "      <th>year</th>\n",
       "      <th>year_day</th>\n",
       "      <th>weekday</th>\n",
       "    </tr>\n",
       "  </thead>\n",
       "  <tbody>\n",
       "    <tr>\n",
       "      <th>0</th>\n",
       "      <td>2008-07-06 10:00:00</td>\n",
       "      <td>44486</td>\n",
       "      <td>Definitive</td>\n",
       "      <td>2008-07-06</td>\n",
       "      <td>10</td>\n",
       "      <td>22243.0</td>\n",
       "      <td>7</td>\n",
       "      <td>2008</td>\n",
       "      <td>188</td>\n",
       "      <td>6</td>\n",
       "    </tr>\n",
       "    <tr>\n",
       "      <th>1</th>\n",
       "      <td>2008-07-06 11:00:00</td>\n",
       "      <td>46270</td>\n",
       "      <td>Definitive</td>\n",
       "      <td>2008-07-06</td>\n",
       "      <td>11</td>\n",
       "      <td>23135.0</td>\n",
       "      <td>7</td>\n",
       "      <td>2008</td>\n",
       "      <td>188</td>\n",
       "      <td>6</td>\n",
       "    </tr>\n",
       "    <tr>\n",
       "      <th>2</th>\n",
       "      <td>2008-07-06 11:30:00</td>\n",
       "      <td>44801</td>\n",
       "      <td>Definitive</td>\n",
       "      <td>2008-07-06</td>\n",
       "      <td>11</td>\n",
       "      <td>22400.5</td>\n",
       "      <td>7</td>\n",
       "      <td>2008</td>\n",
       "      <td>188</td>\n",
       "      <td>6</td>\n",
       "    </tr>\n",
       "    <tr>\n",
       "      <th>3</th>\n",
       "      <td>2008-07-06 13:00:00</td>\n",
       "      <td>41919</td>\n",
       "      <td>Definitive</td>\n",
       "      <td>2008-07-06</td>\n",
       "      <td>13</td>\n",
       "      <td>20959.5</td>\n",
       "      <td>7</td>\n",
       "      <td>2008</td>\n",
       "      <td>188</td>\n",
       "      <td>6</td>\n",
       "    </tr>\n",
       "    <tr>\n",
       "      <th>4</th>\n",
       "      <td>2008-07-06 14:30:00</td>\n",
       "      <td>40135</td>\n",
       "      <td>Definitive</td>\n",
       "      <td>2008-07-06</td>\n",
       "      <td>14</td>\n",
       "      <td>20067.5</td>\n",
       "      <td>7</td>\n",
       "      <td>2008</td>\n",
       "      <td>188</td>\n",
       "      <td>6</td>\n",
       "    </tr>\n",
       "  </tbody>\n",
       "</table>\n",
       "</div>"
      ],
      "text/plain": [
       "                 tstp  consumption     quality         day  hour   energy  \\\n",
       "0 2008-07-06 10:00:00        44486  Definitive  2008-07-06    10  22243.0   \n",
       "1 2008-07-06 11:00:00        46270  Definitive  2008-07-06    11  23135.0   \n",
       "2 2008-07-06 11:30:00        44801  Definitive  2008-07-06    11  22400.5   \n",
       "3 2008-07-06 13:00:00        41919  Definitive  2008-07-06    13  20959.5   \n",
       "4 2008-07-06 14:30:00        40135  Definitive  2008-07-06    14  20067.5   \n",
       "\n",
       "   month  year  year_day  weekday  \n",
       "0      7  2008       188        6  \n",
       "1      7  2008       188        6  \n",
       "2      7  2008       188        6  \n",
       "3      7  2008       188        6  \n",
       "4      7  2008       188        6  "
      ]
     },
     "execution_count": 4,
     "metadata": {},
     "output_type": "execute_result"
    }
   ],
   "source": [
    "# Focus on the definitive data\n",
    "df_30m_nationalconsumption_definitive=df_30m_nationalconsumption[df_30m_nationalconsumption[\"quality\"]==\"Definitive\"]\n",
    "df_30m_nationalconsumption_definitive[\"energy\"]=df_30m_nationalconsumption_definitive.apply(lambda row: row[\"consumption\"]*30*60/3600,axis=1)\n",
    "df_30m_nationalconsumption_definitive[\"day\"]=df_30m_nationalconsumption_definitive.apply(lambda row: row[\"tstp\"].strftime(\"%Y-%m-%d\"),axis=1)\n",
    "df_30m_nationalconsumption_definitive[\"month\"]=df_30m_nationalconsumption_definitive.apply(lambda row: int(row[\"tstp\"].strftime(\"%m\")),axis=1)\n",
    "df_30m_nationalconsumption_definitive[\"year\"]=df_30m_nationalconsumption_definitive.apply(lambda row: int(row[\"tstp\"].strftime(\"%Y\")),axis=1)\n",
    "df_30m_nationalconsumption_definitive[\"year_day\"]=df_30m_nationalconsumption_definitive.apply(lambda row: int(row[\"tstp\"].strftime(\"%j\")),axis=1)\n",
    "df_30m_nationalconsumption_definitive[\"weekday\"]=df_30m_nationalconsumption_definitive.apply(lambda row: row[\"tstp\"].weekday(),axis=1)\n",
    "df_30m_nationalconsumption_definitive[\"hour\"]=df_30m_nationalconsumption_definitive.apply(lambda row: int(row[\"tstp\"].strftime(\"%H\")),axis=1)\n",
    "\n",
    "df_30m_nationalconsumption_definitive.head()"
   ]
  },
  {
   "cell_type": "code",
   "execution_count": 5,
   "metadata": {
    "collapsed": true
   },
   "outputs": [],
   "source": [
    "from mpl_toolkits.axes_grid1 import make_axes_locatable\n",
    "def plot_heatmap(fig, ax,df,title):\n",
    "   \n",
    "    m, n = len(df.index),len(df.columns)\n",
    "    ax.tick_params(axis='x', labelsize=10)\n",
    "    ax.tick_params(axis='y', labelsize=10)\n",
    "    ax.set_xlabel(title, fontsize=15)\n",
    "    #ax.set_ylabel('Candidates' , fontsize=15)\n",
    "    #ax.set_title('Who with who', fontsize=15, fontweight='bold')\n",
    "    ax = plt.imshow(df, interpolation='nearest', cmap='seismic',aspect='auto').axes\n",
    "\n",
    "    _ = ax.set_xticks(np.linspace(0, n-1, n))\n",
    "    _ = ax.set_xticklabels(df.columns,rotation=45)\n",
    "    _ = ax.set_yticks(np.linspace(0, m-1, m))\n",
    "    _ = ax.set_yticklabels(df.index)\n",
    "\n",
    "\n",
    "    ax.grid('off')\n",
    "    ax.xaxis.tick_top()\n",
    "    path_effects = [patheffects.withSimplePatchShadow(shadow_rgbFace=(1,1,1))]\n",
    "\n",
    "    divider = make_axes_locatable(ax)\n",
    "    cax = divider.append_axes(\"right\", size=\"5%\", pad=0.1)\n",
    "    plt.colorbar(cax=cax)\n",
    "#     for i, j in product(range(m), range(n)):\n",
    "#         _ = ax.text(j, i, '{0:.2f}'.format(df.iloc[i, j]),\n",
    "#             size='medium', ha='center', va='center',path_effects=path_effects)\n",
    "    \n",
    "    return fig,ax"
   ]
  },
  {
   "cell_type": "markdown",
   "metadata": {},
   "source": [
    "## Seasonal effect"
   ]
  },
  {
   "cell_type": "code",
   "execution_count": 6,
   "metadata": {
    "collapsed": true
   },
   "outputs": [],
   "source": [
    "heatmap_yearday=pd.pivot_table(df_30m_nationalconsumption_definitive, values=\"energy\", index=['year_day'],columns=['hour'], aggfunc=np.mean)"
   ]
  },
  {
   "cell_type": "code",
   "execution_count": 7,
   "metadata": {},
   "outputs": [
    {
     "data": {
      "image/png": "[encoded data removed]",
      "text/plain": [
       "<matplotlib.figure.Figure at 0x220b3c1d5f8>"
      ]
     },
     "metadata": {},
     "output_type": "display_data"
    }
   ],
   "source": [
    "fig, ax = plt.subplots(figsize=(12,12))\n",
    "fig,ax=plot_heatmap(fig, ax,heatmap_yearday,\"test\")\n",
    "\n",
    "ax.set_xlabel(\"hour\",fontsize=15)\n",
    "ax.set_ylabel(\"Day of the year\",fontsize=15)\n",
    "\n",
    "n=len(heatmap_yearday)\n",
    "yticks=np.linspace(0, n-1, 10)\n",
    "\n",
    "ylabels=[]\n",
    "for y in yticks:\n",
    "    ylabels.append(heatmap_yearday.index[int(y)])\n",
    "\n",
    "ax.set_yticks(yticks)\n",
    "ax.set_yticklabels(ylabels)\n",
    "\n",
    "\n",
    "plt.show()\n",
    "\n",
    "\n",
    "ax.figure.savefig(\"../../reports/pictures/heatmap_yearday_hour.png\")"
   ]
  },
  {
   "cell_type": "markdown",
   "metadata": {},
   "source": [
    "**Notes**: This heatmap illustrates the seasonal and the hourly consumption in the french network."
   ]
  },
  {
   "cell_type": "code",
   "execution_count": 8,
   "metadata": {
    "collapsed": true
   },
   "outputs": [],
   "source": [
    "heatmap_=pd.pivot_table(df_30m_nationalconsumption_definitive, values=\"energy\", index=['month'],columns=['weekday'], aggfunc=np.mean)\n",
    "heatmap_.columns=[\"Monday\",\"Tuesday\",\"Wednesday\",\"Thursday\",\"Friday\",\"Saturday\",\"Sunday\"]\n",
    "heatmap_.index=[\"January\",\"February\",\"March\",\"April\",\"May\",\"June\",\"July\",\"August\",\"September\",\"October\",\"November\",\"December\"]"
   ]
  },
  {
   "cell_type": "code",
   "execution_count": 9,
   "metadata": {},
   "outputs": [
    {
     "data": {
      "image/png": "[encoded data removed]",
      "text/plain": [
       "<matplotlib.figure.Figure at 0x220b3c1d320>"
      ]
     },
     "metadata": {},
     "output_type": "display_data"
    }
   ],
   "source": [
    "fig, ax = plt.subplots(figsize=(12,12))\n",
    "fig,ax=plot_heatmap(fig, ax,heatmap_,\"test\")\n",
    "ax.set_xlabel(\"Weekday\",fontsize=15)\n",
    "ax.set_ylabel(\"Month of the year\",fontsize=15)\n",
    "plt.show()\n",
    "\n",
    "ax.figure.savefig(\"../../reports/pictures/heatmap_weekday_month_RTE.png\")"
   ]
  },
  {
   "cell_type": "markdown",
   "metadata": {},
   "source": [
    "**Notes**: This heatmap is an illustration of the energy consumption in function of the month of the year and the day of the week.This figure illustrates the seasonal effect of the consumption and the difference between the working dqy and the non working day (the week end).\n",
    "\n",
    "This daily differenciation can be illustrate in the firt figure, with some non working day like christmas where the energy consumption is less important."
   ]
  },
  {
   "cell_type": "markdown",
   "metadata": {},
   "source": [
    "## Weather data"
   ]
  },
  {
   "cell_type": "code",
   "execution_count": 32,
   "metadata": {},
   "outputs": [
    {
     "name": "stdout",
     "output_type": "stream",
     "text": [
      "[('weather_data',), ('weather_stations',), ('cities_informations',)]\n"
     ]
    }
   ],
   "source": [
    "file=\"../../../../../../Data/weatherunderground_airportfrance/database.sqlite\"\n",
    "conn = sqlite3.connect(file)\n",
    "c = conn.cursor()\n",
    "c.execute(\"SELECT name FROM sqlite_master WHERE type='table';\")\n",
    "print(c.fetchall())"
   ]
  },
  {
   "cell_type": "code",
   "execution_count": 57,
   "metadata": {},
   "outputs": [
    {
     "data": {
      "text/html": [
       "<div>\n",
       "<style>\n",
       "    .dataframe thead tr:only-child th {\n",
       "        text-align: right;\n",
       "    }\n",
       "\n",
       "    .dataframe thead th {\n",
       "        text-align: left;\n",
       "    }\n",
       "\n",
       "    .dataframe tbody tr th {\n",
       "        vertical-align: top;\n",
       "    }\n",
       "</style>\n",
       "<table border=\"1\" class=\"dataframe\">\n",
       "  <thead>\n",
       "    <tr style=\"text-align: right;\">\n",
       "      <th></th>\n",
       "      <th>station_name</th>\n",
       "      <th>latitude</th>\n",
       "      <th>longitude</th>\n",
       "    </tr>\n",
       "  </thead>\n",
       "  <tbody>\n",
       "    <tr>\n",
       "      <th>count</th>\n",
       "      <td>78</td>\n",
       "      <td>78</td>\n",
       "      <td>78</td>\n",
       "    </tr>\n",
       "    <tr>\n",
       "      <th>unique</th>\n",
       "      <td>78</td>\n",
       "      <td>76</td>\n",
       "      <td>77</td>\n",
       "    </tr>\n",
       "    <tr>\n",
       "      <th>top</th>\n",
       "      <td>LFBP</td>\n",
       "      <td>48.58000183</td>\n",
       "      <td>4.90000010</td>\n",
       "    </tr>\n",
       "    <tr>\n",
       "      <th>freq</th>\n",
       "      <td>1</td>\n",
       "      <td>2</td>\n",
       "      <td>2</td>\n",
       "    </tr>\n",
       "  </tbody>\n",
       "</table>\n",
       "</div>"
      ],
      "text/plain": [
       "       station_name     latitude   longitude\n",
       "count            78           78          78\n",
       "unique           78           76          77\n",
       "top            LFBP  48.58000183  4.90000010\n",
       "freq              1            2           2"
      ]
     },
     "execution_count": 57,
     "metadata": {},
     "output_type": "execute_result"
    }
   ],
   "source": [
    "df_weatherstations=pd.read_sql_query(\"SELECT * FROM 'weather_stations';\",conn)\n",
    "df_weatherstations.describe()"
   ]
  },
  {
   "cell_type": "code",
   "execution_count": 54,
   "metadata": {},
   "outputs": [],
   "source": [
    "# Find the first date\n",
    "# list_right_weatherstations=[]\n",
    "# date_reference=datetime.datetime(2008,7,1)\n",
    "# for station in df_weatherstations[\"station_name\"].unique():\n",
    "#     df_weather=pd.read_sql_query(\"SELECT * FROM 'weather_data' WHERE station_name=='{}';\".format(station),conn)\n",
    "#     df_weather[\"tstp\"]=pd.to_datetime(df_weather[\"tstp\"])\n",
    "#     if df_weather.loc[0,\"tstp\"]<date_reference:\n",
    "#         list_right_weatherstations.append(station)\n",
    "# df_weatherstations_right=df_weatherstations[\"station_name\"].isin(list_right_weatherstations)\n",
    "# df_weatherstations[df_weatherstations_right].to_csv(\"../../data/right_ws.csv\",index=False)"
   ]
  },
  {
   "cell_type": "code",
   "execution_count": 72,
   "metadata": {},
   "outputs": [
    {
     "data": {
      "text/html": [
       "<div>\n",
       "<style>\n",
       "    .dataframe thead tr:only-child th {\n",
       "        text-align: right;\n",
       "    }\n",
       "\n",
       "    .dataframe thead th {\n",
       "        text-align: left;\n",
       "    }\n",
       "\n",
       "    .dataframe tbody tr th {\n",
       "        vertical-align: top;\n",
       "    }\n",
       "</style>\n",
       "<table border=\"1\" class=\"dataframe\">\n",
       "  <thead>\n",
       "    <tr style=\"text-align: right;\">\n",
       "      <th></th>\n",
       "      <th>latitude</th>\n",
       "      <th>longitude</th>\n",
       "    </tr>\n",
       "  </thead>\n",
       "  <tbody>\n",
       "    <tr>\n",
       "      <th>count</th>\n",
       "      <td>73.000000</td>\n",
       "      <td>73.000000</td>\n",
       "    </tr>\n",
       "    <tr>\n",
       "      <th>mean</th>\n",
       "      <td>46.490000</td>\n",
       "      <td>2.553379</td>\n",
       "    </tr>\n",
       "    <tr>\n",
       "      <th>std</th>\n",
       "      <td>2.363462</td>\n",
       "      <td>3.335897</td>\n",
       "    </tr>\n",
       "    <tr>\n",
       "      <th>min</th>\n",
       "      <td>41.500000</td>\n",
       "      <td>-4.166667</td>\n",
       "    </tr>\n",
       "    <tr>\n",
       "      <th>25%</th>\n",
       "      <td>44.180000</td>\n",
       "      <td>0.000000</td>\n",
       "    </tr>\n",
       "    <tr>\n",
       "      <th>50%</th>\n",
       "      <td>47.040001</td>\n",
       "      <td>2.450000</td>\n",
       "    </tr>\n",
       "    <tr>\n",
       "      <th>75%</th>\n",
       "      <td>48.630001</td>\n",
       "      <td>5.083333</td>\n",
       "    </tr>\n",
       "    <tr>\n",
       "      <th>max</th>\n",
       "      <td>50.566666</td>\n",
       "      <td>9.480000</td>\n",
       "    </tr>\n",
       "  </tbody>\n",
       "</table>\n",
       "</div>"
      ],
      "text/plain": [
       "        latitude  longitude\n",
       "count  73.000000  73.000000\n",
       "mean   46.490000   2.553379\n",
       "std     2.363462   3.335897\n",
       "min    41.500000  -4.166667\n",
       "25%    44.180000   0.000000\n",
       "50%    47.040001   2.450000\n",
       "75%    48.630001   5.083333\n",
       "max    50.566666   9.480000"
      ]
     },
     "execution_count": 72,
     "metadata": {},
     "output_type": "execute_result"
    }
   ],
   "source": [
    "df_weatherstations=pd.read_csv(\"../../data/right_ws.csv\")\n",
    "df_weatherstations.describe()"
   ]
  },
  {
   "cell_type": "markdown",
   "metadata": {},
   "source": [
    "## IGN data"
   ]
  },
  {
   "cell_type": "code",
   "execution_count": 73,
   "metadata": {},
   "outputs": [
    {
     "data": {
      "text/html": [
       "<div>\n",
       "<style>\n",
       "    .dataframe thead tr:only-child th {\n",
       "        text-align: right;\n",
       "    }\n",
       "\n",
       "    .dataframe thead th {\n",
       "        text-align: left;\n",
       "    }\n",
       "\n",
       "    .dataframe tbody tr th {\n",
       "        vertical-align: top;\n",
       "    }\n",
       "</style>\n",
       "<table border=\"1\" class=\"dataframe\">\n",
       "  <thead>\n",
       "    <tr style=\"text-align: right;\">\n",
       "      <th></th>\n",
       "      <th>index</th>\n",
       "      <th>name</th>\n",
       "      <th>type</th>\n",
       "      <th>department</th>\n",
       "      <th>code_department</th>\n",
       "      <th>region</th>\n",
       "      <th>code_region</th>\n",
       "      <th>population</th>\n",
       "      <th>area</th>\n",
       "      <th>latitude</th>\n",
       "      <th>longitude</th>\n",
       "    </tr>\n",
       "  </thead>\n",
       "  <tbody>\n",
       "    <tr>\n",
       "      <th>0</th>\n",
       "      <td>46</td>\n",
       "      <td>RODEZ</td>\n",
       "      <td>PREFECTURE DE DEPARTEMENT</td>\n",
       "      <td>12</td>\n",
       "      <td>AVEYRON</td>\n",
       "      <td>76</td>\n",
       "      <td>LANGUEDOC-ROUSSILLON-MIDI-PYRENEES</td>\n",
       "      <td>23741</td>\n",
       "      <td>11.27</td>\n",
       "      <td>44.361319</td>\n",
       "      <td>2.566485</td>\n",
       "    </tr>\n",
       "    <tr>\n",
       "      <th>1</th>\n",
       "      <td>118</td>\n",
       "      <td>LE PUY-EN-VELAY</td>\n",
       "      <td>PREFECTURE DE DEPARTEMENT</td>\n",
       "      <td>43</td>\n",
       "      <td>HAUTE-LOIRE</td>\n",
       "      <td>84</td>\n",
       "      <td>AUVERGNE-RHONE-ALPES</td>\n",
       "      <td>18619</td>\n",
       "      <td>16.89</td>\n",
       "      <td>45.027587</td>\n",
       "      <td>3.895721</td>\n",
       "    </tr>\n",
       "    <tr>\n",
       "      <th>2</th>\n",
       "      <td>564</td>\n",
       "      <td>POITIERS</td>\n",
       "      <td>PREFECTURE DE DEPARTEMENT</td>\n",
       "      <td>86</td>\n",
       "      <td>VIENNE</td>\n",
       "      <td>75</td>\n",
       "      <td>AQUITAINE-LIMOUSIN-POITOU-CHARENTES</td>\n",
       "      <td>87427</td>\n",
       "      <td>42.42</td>\n",
       "      <td>46.569054</td>\n",
       "      <td>0.348202</td>\n",
       "    </tr>\n",
       "    <tr>\n",
       "      <th>3</th>\n",
       "      <td>1051</td>\n",
       "      <td>VALENCE</td>\n",
       "      <td>PREFECTURE DE DEPARTEMENT</td>\n",
       "      <td>26</td>\n",
       "      <td>DROME</td>\n",
       "      <td>84</td>\n",
       "      <td>AUVERGNE-RHONE-ALPES</td>\n",
       "      <td>61767</td>\n",
       "      <td>36.79</td>\n",
       "      <td>44.928393</td>\n",
       "      <td>4.913962</td>\n",
       "    </tr>\n",
       "    <tr>\n",
       "      <th>4</th>\n",
       "      <td>1087</td>\n",
       "      <td>CRETEIL</td>\n",
       "      <td>PREFECTURE DE DEPARTEMENT</td>\n",
       "      <td>94</td>\n",
       "      <td>VAL-DE-MARNE</td>\n",
       "      <td>11</td>\n",
       "      <td>ILE-DE-FRANCE</td>\n",
       "      <td>89989</td>\n",
       "      <td>11.44</td>\n",
       "      <td>48.787543</td>\n",
       "      <td>2.454910</td>\n",
       "    </tr>\n",
       "  </tbody>\n",
       "</table>\n",
       "</div>"
      ],
      "text/plain": [
       "   index             name                       type department  \\\n",
       "0     46            RODEZ  PREFECTURE DE DEPARTEMENT         12   \n",
       "1    118  LE PUY-EN-VELAY  PREFECTURE DE DEPARTEMENT         43   \n",
       "2    564         POITIERS  PREFECTURE DE DEPARTEMENT         86   \n",
       "3   1051          VALENCE  PREFECTURE DE DEPARTEMENT         26   \n",
       "4   1087          CRETEIL  PREFECTURE DE DEPARTEMENT         94   \n",
       "\n",
       "  code_department  region                          code_region  population  \\\n",
       "0         AVEYRON      76   LANGUEDOC-ROUSSILLON-MIDI-PYRENEES       23741   \n",
       "1     HAUTE-LOIRE      84                 AUVERGNE-RHONE-ALPES       18619   \n",
       "2          VIENNE      75  AQUITAINE-LIMOUSIN-POITOU-CHARENTES       87427   \n",
       "3           DROME      84                 AUVERGNE-RHONE-ALPES       61767   \n",
       "4    VAL-DE-MARNE      11                        ILE-DE-FRANCE       89989   \n",
       "\n",
       "    area   latitude  longitude  \n",
       "0  11.27  44.361319   2.566485  \n",
       "1  16.89  45.027587   3.895721  \n",
       "2  42.42  46.569054   0.348202  \n",
       "3  36.79  44.928393   4.913962  \n",
       "4  11.44  48.787543   2.454910  "
      ]
     },
     "execution_count": 73,
     "metadata": {},
     "output_type": "execute_result"
    }
   ],
   "source": [
    "df_cities=pd.read_sql_query(\"SELECT * FROM 'cities_informations';\",conn)\n",
    "df_department=df_cities[(df_cities[\"type\"]==\"PREFECTURE DE DEPARTEMENT\")]\n",
    "df_department=df_department.reset_index()\n",
    "df_department.head()"
   ]
  },
  {
   "cell_type": "code",
   "execution_count": 74,
   "metadata": {
    "collapsed": true
   },
   "outputs": [],
   "source": [
    "def distance(lat1,lon1,lat2,lon2):\n",
    "    return 6371.01 * acos(sin(radians(lat1))*sin(radians(lat2)) + cos(radians(lat1))*cos(radians(lat2))*cos(radians(lon1) -radians(lon2)))"
   ]
  },
  {
   "cell_type": "code",
   "execution_count": 75,
   "metadata": {},
   "outputs": [
    {
     "data": {
      "text/html": [
       "<div>\n",
       "<style>\n",
       "    .dataframe thead tr:only-child th {\n",
       "        text-align: right;\n",
       "    }\n",
       "\n",
       "    .dataframe thead th {\n",
       "        text-align: left;\n",
       "    }\n",
       "\n",
       "    .dataframe tbody tr th {\n",
       "        vertical-align: top;\n",
       "    }\n",
       "</style>\n",
       "<table border=\"1\" class=\"dataframe\">\n",
       "  <thead>\n",
       "    <tr style=\"text-align: right;\">\n",
       "      <th></th>\n",
       "      <th>index</th>\n",
       "      <th>name</th>\n",
       "      <th>type</th>\n",
       "      <th>department</th>\n",
       "      <th>code_department</th>\n",
       "      <th>region</th>\n",
       "      <th>code_region</th>\n",
       "      <th>population</th>\n",
       "      <th>area</th>\n",
       "      <th>latitude</th>\n",
       "      <th>longitude</th>\n",
       "    </tr>\n",
       "  </thead>\n",
       "  <tbody>\n",
       "    <tr>\n",
       "      <th>0</th>\n",
       "      <td>11865</td>\n",
       "      <td>AUCH</td>\n",
       "      <td>PREFECTURE DE DEPARTEMENT</td>\n",
       "      <td>32</td>\n",
       "      <td>GERS</td>\n",
       "      <td>76</td>\n",
       "      <td>LANGUEDOC-ROUSSILLON-MIDI-PYRENEES</td>\n",
       "      <td>21962</td>\n",
       "      <td>73.41</td>\n",
       "      <td>43.645208</td>\n",
       "      <td>0.565406</td>\n",
       "    </tr>\n",
       "    <tr>\n",
       "      <th>1</th>\n",
       "      <td>24607</td>\n",
       "      <td>AGEN</td>\n",
       "      <td>PREFECTURE DE DEPARTEMENT</td>\n",
       "      <td>47</td>\n",
       "      <td>LOT-ET-GARONNE</td>\n",
       "      <td>75</td>\n",
       "      <td>AQUITAINE-LIMOUSIN-POITOU-CHARENTES</td>\n",
       "      <td>34344</td>\n",
       "      <td>11.53</td>\n",
       "      <td>44.203888</td>\n",
       "      <td>0.624408</td>\n",
       "    </tr>\n",
       "    <tr>\n",
       "      <th>2</th>\n",
       "      <td>28625</td>\n",
       "      <td>GRENOBLE</td>\n",
       "      <td>PREFECTURE DE DEPARTEMENT</td>\n",
       "      <td>38</td>\n",
       "      <td>ISERE</td>\n",
       "      <td>84</td>\n",
       "      <td>AUVERGNE-RHONE-ALPES</td>\n",
       "      <td>160215</td>\n",
       "      <td>18.54</td>\n",
       "      <td>45.187537</td>\n",
       "      <td>5.724019</td>\n",
       "    </tr>\n",
       "    <tr>\n",
       "      <th>3</th>\n",
       "      <td>10148</td>\n",
       "      <td>CALAIS</td>\n",
       "      <td>SOUS-PREFECTURE</td>\n",
       "      <td>62</td>\n",
       "      <td>PAS-DE-CALAIS</td>\n",
       "      <td>32</td>\n",
       "      <td>NORD-PAS-DE-CALAIS-PICARDIE</td>\n",
       "      <td>72520</td>\n",
       "      <td>33.45</td>\n",
       "      <td>50.955955</td>\n",
       "      <td>1.872415</td>\n",
       "    </tr>\n",
       "    <tr>\n",
       "      <th>4</th>\n",
       "      <td>26869</td>\n",
       "      <td>CHARLEVILLE-MEZIERES</td>\n",
       "      <td>PREFECTURE DE DEPARTEMENT</td>\n",
       "      <td>08</td>\n",
       "      <td>ARDENNES</td>\n",
       "      <td>44</td>\n",
       "      <td>ALSACE-CHAMPAGNE-ARDENNE-LORRAINE</td>\n",
       "      <td>48991</td>\n",
       "      <td>31.77</td>\n",
       "      <td>49.784228</td>\n",
       "      <td>4.708020</td>\n",
       "    </tr>\n",
       "  </tbody>\n",
       "</table>\n",
       "</div>"
      ],
      "text/plain": [
       "   index                  name                       type department  \\\n",
       "0  11865                  AUCH  PREFECTURE DE DEPARTEMENT         32   \n",
       "1  24607                  AGEN  PREFECTURE DE DEPARTEMENT         47   \n",
       "2  28625              GRENOBLE  PREFECTURE DE DEPARTEMENT         38   \n",
       "3  10148                CALAIS            SOUS-PREFECTURE         62   \n",
       "4  26869  CHARLEVILLE-MEZIERES  PREFECTURE DE DEPARTEMENT         08   \n",
       "\n",
       "  code_department  region                          code_region  population  \\\n",
       "0            GERS      76   LANGUEDOC-ROUSSILLON-MIDI-PYRENEES       21962   \n",
       "1  LOT-ET-GARONNE      75  AQUITAINE-LIMOUSIN-POITOU-CHARENTES       34344   \n",
       "2           ISERE      84                 AUVERGNE-RHONE-ALPES      160215   \n",
       "3   PAS-DE-CALAIS      32          NORD-PAS-DE-CALAIS-PICARDIE       72520   \n",
       "4        ARDENNES      44    ALSACE-CHAMPAGNE-ARDENNE-LORRAINE       48991   \n",
       "\n",
       "    area   latitude  longitude  \n",
       "0  73.41  43.645208   0.565406  \n",
       "1  11.53  44.203888   0.624408  \n",
       "2  18.54  45.187537   5.724019  \n",
       "3  33.45  50.955955   1.872415  \n",
       "4  31.77  49.784228   4.708020  "
      ]
     },
     "execution_count": 75,
     "metadata": {},
     "output_type": "execute_result"
    }
   ],
   "source": [
    "list_dfmax=[]\n",
    "for department in df_cities[\"department\"].unique():\n",
    "    df_dep=df_cities[df_cities[\"department\"]==department]\n",
    "    list_dfmax.append(df_cities.iloc[df_dep[\"population\"].idxmax()])\n",
    "    \n",
    "df_max=pd.DataFrame(list_dfmax)\n",
    "df_max=df_max.reset_index()\n",
    "df_max.head()"
   ]
  },
  {
   "cell_type": "code",
   "execution_count": 76,
   "metadata": {},
   "outputs": [
    {
     "data": {
      "text/html": [
       "<div>\n",
       "<style>\n",
       "    .dataframe thead tr:only-child th {\n",
       "        text-align: right;\n",
       "    }\n",
       "\n",
       "    .dataframe thead th {\n",
       "        text-align: left;\n",
       "    }\n",
       "\n",
       "    .dataframe tbody tr th {\n",
       "        vertical-align: top;\n",
       "    }\n",
       "</style>\n",
       "<table border=\"1\" class=\"dataframe\">\n",
       "  <thead>\n",
       "    <tr style=\"text-align: right;\">\n",
       "      <th></th>\n",
       "      <th>station_name</th>\n",
       "    </tr>\n",
       "    <tr>\n",
       "      <th>department</th>\n",
       "      <th></th>\n",
       "    </tr>\n",
       "  </thead>\n",
       "  <tbody>\n",
       "    <tr>\n",
       "      <th>32</th>\n",
       "      <td>LFBA</td>\n",
       "    </tr>\n",
       "    <tr>\n",
       "      <th>47</th>\n",
       "      <td>LFBA</td>\n",
       "    </tr>\n",
       "    <tr>\n",
       "      <th>38</th>\n",
       "      <td>LFLS</td>\n",
       "    </tr>\n",
       "    <tr>\n",
       "      <th>62</th>\n",
       "      <td>LFQQ</td>\n",
       "    </tr>\n",
       "    <tr>\n",
       "      <th>08</th>\n",
       "      <td>LFOK</td>\n",
       "    </tr>\n",
       "  </tbody>\n",
       "</table>\n",
       "</div>"
      ],
      "text/plain": [
       "           station_name\n",
       "department             \n",
       "32                 LFBA\n",
       "47                 LFBA\n",
       "38                 LFLS\n",
       "62                 LFQQ\n",
       "08                 LFOK"
      ]
     },
     "execution_count": 76,
     "metadata": {},
     "output_type": "execute_result"
    }
   ],
   "source": [
    "list_department_ws=[]\n",
    "\n",
    "\n",
    "for department in range(len(df_max)):\n",
    "    ref_distance=np.inf\n",
    "    for station in range(len(df_weatherstations)):\n",
    "        distance_weatherstation=distance(float(df_max.loc[department,\"latitude\"]),float(df_max.loc[department,\"longitude\"]),float(df_weatherstations.loc[station,\"latitude\"]),float(df_weatherstations.loc[station,\"longitude\"]))\n",
    "        if distance_weatherstation<ref_distance:\n",
    "            station_code=df_weatherstations.loc[station,\"station_name\"]\n",
    "            ref_distance=distance_weatherstation\n",
    "#     print(df_department.loc[department,\"department\"],station_code)\n",
    "    list_department_ws.append([df_max.loc[department,\"department\"],station_code])\n",
    "df_department_ws=pd.DataFrame(list_department_ws,columns=[\"department\",\"station_name\"])\n",
    "df_department_ws=df_department_ws.set_index([\"department\"])\n",
    "\n",
    "df_department_ws.head()"
   ]
  },
  {
   "cell_type": "code",
   "execution_count": 77,
   "metadata": {},
   "outputs": [
    {
     "data": {
      "text/html": [
       "<div>\n",
       "<style>\n",
       "    .dataframe thead tr:only-child th {\n",
       "        text-align: right;\n",
       "    }\n",
       "\n",
       "    .dataframe thead th {\n",
       "        text-align: left;\n",
       "    }\n",
       "\n",
       "    .dataframe tbody tr th {\n",
       "        vertical-align: top;\n",
       "    }\n",
       "</style>\n",
       "<table border=\"1\" class=\"dataframe\">\n",
       "  <thead>\n",
       "    <tr style=\"text-align: right;\">\n",
       "      <th></th>\n",
       "      <th>region</th>\n",
       "      <th>population</th>\n",
       "      <th>area</th>\n",
       "      <th>latitude</th>\n",
       "      <th>longitude</th>\n",
       "    </tr>\n",
       "    <tr>\n",
       "      <th>department</th>\n",
       "      <th></th>\n",
       "      <th></th>\n",
       "      <th></th>\n",
       "      <th></th>\n",
       "      <th></th>\n",
       "    </tr>\n",
       "  </thead>\n",
       "  <tbody>\n",
       "    <tr>\n",
       "      <th>01</th>\n",
       "      <td>34440</td>\n",
       "      <td>619497</td>\n",
       "      <td>5630.65</td>\n",
       "      <td>18895.440928</td>\n",
       "      <td>2186.980429</td>\n",
       "    </tr>\n",
       "    <tr>\n",
       "      <th>02</th>\n",
       "      <td>25760</td>\n",
       "      <td>540067</td>\n",
       "      <td>7346.30</td>\n",
       "      <td>39891.759570</td>\n",
       "      <td>2842.207193</td>\n",
       "    </tr>\n",
       "    <tr>\n",
       "      <th>03</th>\n",
       "      <td>26712</td>\n",
       "      <td>343431</td>\n",
       "      <td>7321.74</td>\n",
       "      <td>14740.555255</td>\n",
       "      <td>1011.569672</td>\n",
       "    </tr>\n",
       "    <tr>\n",
       "      <th>04</th>\n",
       "      <td>18507</td>\n",
       "      <td>161916</td>\n",
       "      <td>6924.13</td>\n",
       "      <td>8771.611395</td>\n",
       "      <td>1222.903427</td>\n",
       "    </tr>\n",
       "    <tr>\n",
       "      <th>05</th>\n",
       "      <td>15624</td>\n",
       "      <td>139279</td>\n",
       "      <td>5627.75</td>\n",
       "      <td>7489.832601</td>\n",
       "      <td>1029.977630</td>\n",
       "    </tr>\n",
       "  </tbody>\n",
       "</table>\n",
       "</div>"
      ],
      "text/plain": [
       "            region  population     area      latitude    longitude\n",
       "department                                                        \n",
       "01           34440      619497  5630.65  18895.440928  2186.980429\n",
       "02           25760      540067  7346.30  39891.759570  2842.207193\n",
       "03           26712      343431  7321.74  14740.555255  1011.569672\n",
       "04           18507      161916  6924.13   8771.611395  1222.903427\n",
       "05           15624      139279  5627.75   7489.832601  1029.977630"
      ]
     },
     "execution_count": 77,
     "metadata": {},
     "output_type": "execute_result"
    }
   ],
   "source": [
    "df_countpopulation=df_cities.groupby([\"department\"]).sum()\n",
    "df_countpopulation.head()"
   ]
  },
  {
   "cell_type": "code",
   "execution_count": 78,
   "metadata": {},
   "outputs": [
    {
     "data": {
      "text/html": [
       "<div>\n",
       "<style>\n",
       "    .dataframe thead tr:only-child th {\n",
       "        text-align: right;\n",
       "    }\n",
       "\n",
       "    .dataframe thead th {\n",
       "        text-align: left;\n",
       "    }\n",
       "\n",
       "    .dataframe tbody tr th {\n",
       "        vertical-align: top;\n",
       "    }\n",
       "</style>\n",
       "<table border=\"1\" class=\"dataframe\">\n",
       "  <thead>\n",
       "    <tr style=\"text-align: right;\">\n",
       "      <th></th>\n",
       "      <th>population</th>\n",
       "      <th>area</th>\n",
       "      <th>station_name</th>\n",
       "    </tr>\n",
       "  </thead>\n",
       "  <tbody>\n",
       "    <tr>\n",
       "      <th>01</th>\n",
       "      <td>619497</td>\n",
       "      <td>5630.65</td>\n",
       "      <td>LFLL</td>\n",
       "    </tr>\n",
       "    <tr>\n",
       "      <th>02</th>\n",
       "      <td>540067</td>\n",
       "      <td>7346.30</td>\n",
       "      <td>LFAQ</td>\n",
       "    </tr>\n",
       "    <tr>\n",
       "      <th>03</th>\n",
       "      <td>343431</td>\n",
       "      <td>7321.74</td>\n",
       "      <td>LFLC</td>\n",
       "    </tr>\n",
       "    <tr>\n",
       "      <th>04</th>\n",
       "      <td>161916</td>\n",
       "      <td>6924.13</td>\n",
       "      <td>LFML</td>\n",
       "    </tr>\n",
       "    <tr>\n",
       "      <th>05</th>\n",
       "      <td>139279</td>\n",
       "      <td>5627.75</td>\n",
       "      <td>LFLS</td>\n",
       "    </tr>\n",
       "  </tbody>\n",
       "</table>\n",
       "</div>"
      ],
      "text/plain": [
       "    population     area station_name\n",
       "01      619497  5630.65         LFLL\n",
       "02      540067  7346.30         LFAQ\n",
       "03      343431  7321.74         LFLC\n",
       "04      161916  6924.13         LFML\n",
       "05      139279  5627.75         LFLS"
      ]
     },
     "execution_count": 78,
     "metadata": {},
     "output_type": "execute_result"
    }
   ],
   "source": [
    "df_department=pd.concat([df_countpopulation,df_department_ws],axis=1)\n",
    "df_department=df_department.drop([\"region\",\"latitude\",\"longitude\"],axis=1)\n",
    "df_department.head()"
   ]
  },
  {
   "cell_type": "code",
   "execution_count": 79,
   "metadata": {},
   "outputs": [
    {
     "data": {
      "text/plain": [
       "63697865"
      ]
     },
     "execution_count": 79,
     "metadata": {},
     "output_type": "execute_result"
    }
   ],
   "source": [
    "df_department[\"population\"].sum()"
   ]
  },
  {
   "cell_type": "code",
   "execution_count": 100,
   "metadata": {},
   "outputs": [
    {
     "data": {
      "text/plain": [
       "0.017453363625295763"
      ]
     },
     "execution_count": 100,
     "metadata": {},
     "output_type": "execute_result"
    }
   ],
   "source": [
    "df_coefficient=df_department.groupby([\"station_name\"]).sum()[\"population\"]/df_department[\"population\"].sum()\n",
    "df_coefficient.loc[\"LFAQ\"]"
   ]
  },
  {
   "cell_type": "code",
   "execution_count": 87,
   "metadata": {
    "scrolled": true
   },
   "outputs": [
    {
     "name": "stdout",
     "output_type": "stream",
     "text": [
      "LFRQ\n"
     ]
    }
   ],
   "source": [
    "# Get the dta for the right station\n",
    "\n",
    "for station in df_department[\"station_name\"].unique():\n",
    "    if not \"{}.csv\".format(station) in os.listdir(\"../../../../../../Data/weatherunderground_airportfrance/csv_clean/\"):\n",
    "        print(station)\n",
    "        df_weather=pd.read_sql_query(\"SELECT * FROM 'weather_data' WHERE station_name=='{}';\".format(station),conn)\n",
    "        df_weather[\"tstp\"]=pd.to_datetime(df_weather[\"tstp\"])\n",
    "        df_weather[\"day\"]=df_weather.apply(lambda row: row[\"tstp\"].strftime(\"%Y-%m-%d\"),axis=1)\n",
    "        df_weather[\"hour\"]=df_weather.apply(lambda row: int(row[\"tstp\"].strftime(\"%H\")),axis=1)\n",
    "        df_weather[\"month\"]=df_weather.apply(lambda row: int(row[\"tstp\"].strftime(\"%m\")),axis=1)\n",
    "        df_weather[\"year_day\"]=df_weather.apply(lambda row: int(row[\"tstp\"].strftime(\"%j\")),axis=1)\n",
    "        df_weather[\"year\"]=df_weather.apply(lambda row: int(row[\"tstp\"].strftime(\"%y\")),axis=1)\n",
    "        df_weather[\"weekday\"]=df_weather.apply(lambda row: row[\"tstp\"].weekday(),axis=1)\n",
    "\n",
    "        df_weather[\"wind_speed\"]=pd.to_numeric(df_weather[\"wind_speed\"],errors=\"coerce\")\n",
    "\n",
    "\n",
    "        df_weather=df_weather[(df_weather[\"wind_speed\"]<200) & (df_weather[\"wind_speed\"]>0)]\n",
    "        df_weather=df_weather[(df_weather[\"outdoor_temperature\"]>-20) & (df_weather[\"outdoor_temperature\"]<50)]\n",
    "        df_weather=df_weather[(df_weather[\"outdoor_humidity\"]>0) & (df_weather[\"outdoor_humidity\"]<100)]\n",
    "\n",
    "        df_weather.to_csv(\"../../../../../../Data/weatherunderground_airportfrance/csv_clean/{}.csv\".format(station),index=False)"
   ]
  },
  {
   "cell_type": "code",
   "execution_count": 89,
   "metadata": {},
   "outputs": [
    {
     "name": "stdout",
     "output_type": "stream",
     "text": [
      "2007-06-06 14:30:00\n"
     ]
    }
   ],
   "source": [
    "# Find the first data for the analysis\n",
    "\n",
    "date_reference=datetime.datetime(2000,1,1)\n",
    "for station in df_department[\"station_name\"].unique():\n",
    "#     print(station)\n",
    "    df_weather=pd.read_csv(\"../../../../../../Data/weatherunderground_airportfrance/csv_clean/{}.csv\".format(station))\n",
    "    df_weather[\"tstp\"]=pd.to_datetime(df_weather[\"tstp\"])\n",
    "#     print(df_weather[[\"tstp\",\"day\",\"outdoor_temperature\",\"outdoor_humidity\",\"wind_speed\"]].head())\n",
    "    if df_weather.loc[0,\"tstp\"]>date_reference:\n",
    "        date_reference=df_weather.loc[0,\"tstp\"]\n",
    "\n",
    "print(date_reference)"
   ]
  },
  {
   "cell_type": "code",
   "execution_count": 108,
   "metadata": {},
   "outputs": [
    {
     "ename": "MemoryError",
     "evalue": "",
     "output_type": "error",
     "traceback": [
      "\u001b[1;31m---------------------------------------------------------------------------\u001b[0m",
      "\u001b[1;31mMemoryError\u001b[0m                               Traceback (most recent call last)",
      "\u001b[1;32m<ipython-input-108-6e18ca5dc4dd>\u001b[0m in \u001b[0;36m<module>\u001b[1;34m()\u001b[0m\n\u001b[0;32m     18\u001b[0m     \u001b[0mdf_tot\u001b[0m\u001b[1;33m=\u001b[0m\u001b[0mpd\u001b[0m\u001b[1;33m.\u001b[0m\u001b[0mconcat\u001b[0m\u001b[1;33m(\u001b[0m\u001b[0mlist_df\u001b[0m\u001b[1;33m,\u001b[0m\u001b[0maxis\u001b[0m\u001b[1;33m=\u001b[0m\u001b[1;36m1\u001b[0m\u001b[1;33m)\u001b[0m\u001b[1;33m\u001b[0m\u001b[0m\n\u001b[0;32m     19\u001b[0m \u001b[1;33m\u001b[0m\u001b[0m\n\u001b[1;32m---> 20\u001b[1;33m     \u001b[0mdf_tot\u001b[0m\u001b[1;33m=\u001b[0m\u001b[0mdf_tot\u001b[0m\u001b[1;33m.\u001b[0m\u001b[0mdropna\u001b[0m\u001b[1;33m(\u001b[0m\u001b[1;33m)\u001b[0m\u001b[1;33m\u001b[0m\u001b[0m\n\u001b[0m\u001b[0;32m     21\u001b[0m \u001b[1;33m\u001b[0m\u001b[0m\n\u001b[0;32m     22\u001b[0m     \u001b[0mdict_weather\u001b[0m\u001b[1;33m[\u001b[0m\u001b[0mparam\u001b[0m\u001b[1;33m]\u001b[0m\u001b[1;33m=\u001b[0m\u001b[0mdf_tot\u001b[0m\u001b[1;33m.\u001b[0m\u001b[0msum\u001b[0m\u001b[1;33m(\u001b[0m\u001b[0maxis\u001b[0m\u001b[1;33m=\u001b[0m\u001b[1;36m1\u001b[0m\u001b[1;33m)\u001b[0m\u001b[1;33m\u001b[0m\u001b[0m\n",
      "\u001b[1;32m~\\Anaconda3\\envs\\dev_dataanalytics_36\\lib\\site-packages\\pandas\\core\\frame.py\u001b[0m in \u001b[0;36mdropna\u001b[1;34m(self, axis, how, thresh, subset, inplace)\u001b[0m\n\u001b[0;32m   3053\u001b[0m                 \u001b[0magg_obj\u001b[0m \u001b[1;33m=\u001b[0m \u001b[0mself\u001b[0m\u001b[1;33m.\u001b[0m\u001b[0mtake\u001b[0m\u001b[1;33m(\u001b[0m\u001b[0mindices\u001b[0m\u001b[1;33m,\u001b[0m \u001b[0maxis\u001b[0m\u001b[1;33m=\u001b[0m\u001b[0magg_axis\u001b[0m\u001b[1;33m)\u001b[0m\u001b[1;33m\u001b[0m\u001b[0m\n\u001b[0;32m   3054\u001b[0m \u001b[1;33m\u001b[0m\u001b[0m\n\u001b[1;32m-> 3055\u001b[1;33m             \u001b[0mcount\u001b[0m \u001b[1;33m=\u001b[0m \u001b[0magg_obj\u001b[0m\u001b[1;33m.\u001b[0m\u001b[0mcount\u001b[0m\u001b[1;33m(\u001b[0m\u001b[0maxis\u001b[0m\u001b[1;33m=\u001b[0m\u001b[0magg_axis\u001b[0m\u001b[1;33m)\u001b[0m\u001b[1;33m\u001b[0m\u001b[0m\n\u001b[0m\u001b[0;32m   3056\u001b[0m \u001b[1;33m\u001b[0m\u001b[0m\n\u001b[0;32m   3057\u001b[0m             \u001b[1;32mif\u001b[0m \u001b[0mthresh\u001b[0m \u001b[1;32mis\u001b[0m \u001b[1;32mnot\u001b[0m \u001b[1;32mNone\u001b[0m\u001b[1;33m:\u001b[0m\u001b[1;33m\u001b[0m\u001b[0m\n",
      "\u001b[1;32m~\\Anaconda3\\envs\\dev_dataanalytics_36\\lib\\site-packages\\pandas\\core\\frame.py\u001b[0m in \u001b[0;36mcount\u001b[1;34m(self, axis, level, numeric_only)\u001b[0m\n\u001b[0;32m   4994\u001b[0m             \u001b[0mresult\u001b[0m \u001b[1;33m=\u001b[0m \u001b[0mSeries\u001b[0m\u001b[1;33m(\u001b[0m\u001b[1;36m0\u001b[0m\u001b[1;33m,\u001b[0m \u001b[0mindex\u001b[0m\u001b[1;33m=\u001b[0m\u001b[0mframe\u001b[0m\u001b[1;33m.\u001b[0m\u001b[0m_get_agg_axis\u001b[0m\u001b[1;33m(\u001b[0m\u001b[0maxis\u001b[0m\u001b[1;33m)\u001b[0m\u001b[1;33m)\u001b[0m\u001b[1;33m\u001b[0m\u001b[0m\n\u001b[0;32m   4995\u001b[0m         \u001b[1;32melse\u001b[0m\u001b[1;33m:\u001b[0m\u001b[1;33m\u001b[0m\u001b[0m\n\u001b[1;32m-> 4996\u001b[1;33m             \u001b[1;32mif\u001b[0m \u001b[0mframe\u001b[0m\u001b[1;33m.\u001b[0m\u001b[0m_is_mixed_type\u001b[0m\u001b[1;33m:\u001b[0m\u001b[1;33m\u001b[0m\u001b[0m\n\u001b[0m\u001b[0;32m   4997\u001b[0m                 \u001b[0mresult\u001b[0m \u001b[1;33m=\u001b[0m \u001b[0mnotnull\u001b[0m\u001b[1;33m(\u001b[0m\u001b[0mframe\u001b[0m\u001b[1;33m)\u001b[0m\u001b[1;33m.\u001b[0m\u001b[0msum\u001b[0m\u001b[1;33m(\u001b[0m\u001b[0maxis\u001b[0m\u001b[1;33m=\u001b[0m\u001b[0maxis\u001b[0m\u001b[1;33m)\u001b[0m\u001b[1;33m\u001b[0m\u001b[0m\n\u001b[0;32m   4998\u001b[0m             \u001b[1;32melse\u001b[0m\u001b[1;33m:\u001b[0m\u001b[1;33m\u001b[0m\u001b[0m\n",
      "\u001b[1;32m~\\Anaconda3\\envs\\dev_dataanalytics_36\\lib\\site-packages\\pandas\\core\\generic.py\u001b[0m in \u001b[0;36m_is_mixed_type\u001b[1;34m(self)\u001b[0m\n\u001b[0;32m   3172\u001b[0m     \u001b[1;32mdef\u001b[0m \u001b[0m_is_mixed_type\u001b[0m\u001b[1;33m(\u001b[0m\u001b[0mself\u001b[0m\u001b[1;33m)\u001b[0m\u001b[1;33m:\u001b[0m\u001b[1;33m\u001b[0m\u001b[0m\n\u001b[0;32m   3173\u001b[0m         \u001b[0mf\u001b[0m \u001b[1;33m=\u001b[0m \u001b[1;32mlambda\u001b[0m\u001b[1;33m:\u001b[0m \u001b[0mself\u001b[0m\u001b[1;33m.\u001b[0m\u001b[0m_data\u001b[0m\u001b[1;33m.\u001b[0m\u001b[0mis_mixed_type\u001b[0m\u001b[1;33m\u001b[0m\u001b[0m\n\u001b[1;32m-> 3174\u001b[1;33m         \u001b[1;32mreturn\u001b[0m \u001b[0mself\u001b[0m\u001b[1;33m.\u001b[0m\u001b[0m_protect_consolidate\u001b[0m\u001b[1;33m(\u001b[0m\u001b[0mf\u001b[0m\u001b[1;33m)\u001b[0m\u001b[1;33m\u001b[0m\u001b[0m\n\u001b[0m\u001b[0;32m   3175\u001b[0m \u001b[1;33m\u001b[0m\u001b[0m\n\u001b[0;32m   3176\u001b[0m     \u001b[1;33m@\u001b[0m\u001b[0mproperty\u001b[0m\u001b[1;33m\u001b[0m\u001b[0m\n",
      "\u001b[1;32m~\\Anaconda3\\envs\\dev_dataanalytics_36\\lib\\site-packages\\pandas\\core\\generic.py\u001b[0m in \u001b[0;36m_protect_consolidate\u001b[1;34m(self, f)\u001b[0m\n\u001b[0;32m   3125\u001b[0m         \"\"\"\n\u001b[0;32m   3126\u001b[0m         \u001b[0mblocks_before\u001b[0m \u001b[1;33m=\u001b[0m \u001b[0mlen\u001b[0m\u001b[1;33m(\u001b[0m\u001b[0mself\u001b[0m\u001b[1;33m.\u001b[0m\u001b[0m_data\u001b[0m\u001b[1;33m.\u001b[0m\u001b[0mblocks\u001b[0m\u001b[1;33m)\u001b[0m\u001b[1;33m\u001b[0m\u001b[0m\n\u001b[1;32m-> 3127\u001b[1;33m         \u001b[0mresult\u001b[0m \u001b[1;33m=\u001b[0m \u001b[0mf\u001b[0m\u001b[1;33m(\u001b[0m\u001b[1;33m)\u001b[0m\u001b[1;33m\u001b[0m\u001b[0m\n\u001b[0m\u001b[0;32m   3128\u001b[0m         \u001b[1;32mif\u001b[0m \u001b[0mlen\u001b[0m\u001b[1;33m(\u001b[0m\u001b[0mself\u001b[0m\u001b[1;33m.\u001b[0m\u001b[0m_data\u001b[0m\u001b[1;33m.\u001b[0m\u001b[0mblocks\u001b[0m\u001b[1;33m)\u001b[0m \u001b[1;33m!=\u001b[0m \u001b[0mblocks_before\u001b[0m\u001b[1;33m:\u001b[0m\u001b[1;33m\u001b[0m\u001b[0m\n\u001b[0;32m   3129\u001b[0m             \u001b[0mself\u001b[0m\u001b[1;33m.\u001b[0m\u001b[0m_clear_item_cache\u001b[0m\u001b[1;33m(\u001b[0m\u001b[1;33m)\u001b[0m\u001b[1;33m\u001b[0m\u001b[0m\n",
      "\u001b[1;32m~\\Anaconda3\\envs\\dev_dataanalytics_36\\lib\\site-packages\\pandas\\core\\generic.py\u001b[0m in \u001b[0;36m<lambda>\u001b[1;34m()\u001b[0m\n\u001b[0;32m   3171\u001b[0m     \u001b[1;33m@\u001b[0m\u001b[0mproperty\u001b[0m\u001b[1;33m\u001b[0m\u001b[0m\n\u001b[0;32m   3172\u001b[0m     \u001b[1;32mdef\u001b[0m \u001b[0m_is_mixed_type\u001b[0m\u001b[1;33m(\u001b[0m\u001b[0mself\u001b[0m\u001b[1;33m)\u001b[0m\u001b[1;33m:\u001b[0m\u001b[1;33m\u001b[0m\u001b[0m\n\u001b[1;32m-> 3173\u001b[1;33m         \u001b[0mf\u001b[0m \u001b[1;33m=\u001b[0m \u001b[1;32mlambda\u001b[0m\u001b[1;33m:\u001b[0m \u001b[0mself\u001b[0m\u001b[1;33m.\u001b[0m\u001b[0m_data\u001b[0m\u001b[1;33m.\u001b[0m\u001b[0mis_mixed_type\u001b[0m\u001b[1;33m\u001b[0m\u001b[0m\n\u001b[0m\u001b[0;32m   3174\u001b[0m         \u001b[1;32mreturn\u001b[0m \u001b[0mself\u001b[0m\u001b[1;33m.\u001b[0m\u001b[0m_protect_consolidate\u001b[0m\u001b[1;33m(\u001b[0m\u001b[0mf\u001b[0m\u001b[1;33m)\u001b[0m\u001b[1;33m\u001b[0m\u001b[0m\n\u001b[0;32m   3175\u001b[0m \u001b[1;33m\u001b[0m\u001b[0m\n",
      "\u001b[1;32m~\\Anaconda3\\envs\\dev_dataanalytics_36\\lib\\site-packages\\pandas\\core\\internals.py\u001b[0m in \u001b[0;36mis_mixed_type\u001b[1;34m(self)\u001b[0m\n\u001b[0;32m   3310\u001b[0m     \u001b[1;32mdef\u001b[0m \u001b[0mis_mixed_type\u001b[0m\u001b[1;33m(\u001b[0m\u001b[0mself\u001b[0m\u001b[1;33m)\u001b[0m\u001b[1;33m:\u001b[0m\u001b[1;33m\u001b[0m\u001b[0m\n\u001b[0;32m   3311\u001b[0m         \u001b[1;31m# Warning, consolidation needs to get checked upstairs\u001b[0m\u001b[1;33m\u001b[0m\u001b[1;33m\u001b[0m\u001b[0m\n\u001b[1;32m-> 3312\u001b[1;33m         \u001b[0mself\u001b[0m\u001b[1;33m.\u001b[0m\u001b[0m_consolidate_inplace\u001b[0m\u001b[1;33m(\u001b[0m\u001b[1;33m)\u001b[0m\u001b[1;33m\u001b[0m\u001b[0m\n\u001b[0m\u001b[0;32m   3313\u001b[0m         \u001b[1;32mreturn\u001b[0m \u001b[0mlen\u001b[0m\u001b[1;33m(\u001b[0m\u001b[0mself\u001b[0m\u001b[1;33m.\u001b[0m\u001b[0mblocks\u001b[0m\u001b[1;33m)\u001b[0m \u001b[1;33m>\u001b[0m \u001b[1;36m1\u001b[0m\u001b[1;33m\u001b[0m\u001b[0m\n\u001b[0;32m   3314\u001b[0m \u001b[1;33m\u001b[0m\u001b[0m\n",
      "\u001b[1;32m~\\Anaconda3\\envs\\dev_dataanalytics_36\\lib\\site-packages\\pandas\\core\\internals.py\u001b[0m in \u001b[0;36m_consolidate_inplace\u001b[1;34m(self)\u001b[0m\n\u001b[0;32m   3576\u001b[0m     \u001b[1;32mdef\u001b[0m \u001b[0m_consolidate_inplace\u001b[0m\u001b[1;33m(\u001b[0m\u001b[0mself\u001b[0m\u001b[1;33m)\u001b[0m\u001b[1;33m:\u001b[0m\u001b[1;33m\u001b[0m\u001b[0m\n\u001b[0;32m   3577\u001b[0m         \u001b[1;32mif\u001b[0m \u001b[1;32mnot\u001b[0m \u001b[0mself\u001b[0m\u001b[1;33m.\u001b[0m\u001b[0mis_consolidated\u001b[0m\u001b[1;33m(\u001b[0m\u001b[1;33m)\u001b[0m\u001b[1;33m:\u001b[0m\u001b[1;33m\u001b[0m\u001b[0m\n\u001b[1;32m-> 3578\u001b[1;33m             \u001b[0mself\u001b[0m\u001b[1;33m.\u001b[0m\u001b[0mblocks\u001b[0m \u001b[1;33m=\u001b[0m \u001b[0mtuple\u001b[0m\u001b[1;33m(\u001b[0m\u001b[0m_consolidate\u001b[0m\u001b[1;33m(\u001b[0m\u001b[0mself\u001b[0m\u001b[1;33m.\u001b[0m\u001b[0mblocks\u001b[0m\u001b[1;33m)\u001b[0m\u001b[1;33m)\u001b[0m\u001b[1;33m\u001b[0m\u001b[0m\n\u001b[0m\u001b[0;32m   3579\u001b[0m             \u001b[0mself\u001b[0m\u001b[1;33m.\u001b[0m\u001b[0m_is_consolidated\u001b[0m \u001b[1;33m=\u001b[0m \u001b[1;32mTrue\u001b[0m\u001b[1;33m\u001b[0m\u001b[0m\n\u001b[0;32m   3580\u001b[0m             \u001b[0mself\u001b[0m\u001b[1;33m.\u001b[0m\u001b[0m_known_consolidated\u001b[0m \u001b[1;33m=\u001b[0m \u001b[1;32mTrue\u001b[0m\u001b[1;33m\u001b[0m\u001b[0m\n",
      "\u001b[1;32m~\\Anaconda3\\envs\\dev_dataanalytics_36\\lib\\site-packages\\pandas\\core\\internals.py\u001b[0m in \u001b[0;36m_consolidate\u001b[1;34m(blocks)\u001b[0m\n\u001b[0;32m   4523\u001b[0m     \u001b[1;32mfor\u001b[0m \u001b[1;33m(\u001b[0m\u001b[0m_can_consolidate\u001b[0m\u001b[1;33m,\u001b[0m \u001b[0mdtype\u001b[0m\u001b[1;33m)\u001b[0m\u001b[1;33m,\u001b[0m \u001b[0mgroup_blocks\u001b[0m \u001b[1;32min\u001b[0m \u001b[0mgrouper\u001b[0m\u001b[1;33m:\u001b[0m\u001b[1;33m\u001b[0m\u001b[0m\n\u001b[0;32m   4524\u001b[0m         merged_blocks = _merge_blocks(list(group_blocks), dtype=dtype,\n\u001b[1;32m-> 4525\u001b[1;33m                                       _can_consolidate=_can_consolidate)\n\u001b[0m\u001b[0;32m   4526\u001b[0m         \u001b[0mnew_blocks\u001b[0m \u001b[1;33m=\u001b[0m \u001b[0m_extend_blocks\u001b[0m\u001b[1;33m(\u001b[0m\u001b[0mmerged_blocks\u001b[0m\u001b[1;33m,\u001b[0m \u001b[0mnew_blocks\u001b[0m\u001b[1;33m)\u001b[0m\u001b[1;33m\u001b[0m\u001b[0m\n\u001b[0;32m   4527\u001b[0m     \u001b[1;32mreturn\u001b[0m \u001b[0mnew_blocks\u001b[0m\u001b[1;33m\u001b[0m\u001b[0m\n",
      "\u001b[1;32m~\\Anaconda3\\envs\\dev_dataanalytics_36\\lib\\site-packages\\pandas\\core\\internals.py\u001b[0m in \u001b[0;36m_merge_blocks\u001b[1;34m(blocks, dtype, _can_consolidate)\u001b[0m\n\u001b[0;32m   4546\u001b[0m \u001b[1;33m\u001b[0m\u001b[0m\n\u001b[0;32m   4547\u001b[0m         \u001b[0margsort\u001b[0m \u001b[1;33m=\u001b[0m \u001b[0mnp\u001b[0m\u001b[1;33m.\u001b[0m\u001b[0margsort\u001b[0m\u001b[1;33m(\u001b[0m\u001b[0mnew_mgr_locs\u001b[0m\u001b[1;33m)\u001b[0m\u001b[1;33m\u001b[0m\u001b[0m\n\u001b[1;32m-> 4548\u001b[1;33m         \u001b[0mnew_values\u001b[0m \u001b[1;33m=\u001b[0m \u001b[0mnew_values\u001b[0m\u001b[1;33m[\u001b[0m\u001b[0margsort\u001b[0m\u001b[1;33m]\u001b[0m\u001b[1;33m\u001b[0m\u001b[0m\n\u001b[0m\u001b[0;32m   4549\u001b[0m         \u001b[0mnew_mgr_locs\u001b[0m \u001b[1;33m=\u001b[0m \u001b[0mnew_mgr_locs\u001b[0m\u001b[1;33m[\u001b[0m\u001b[0margsort\u001b[0m\u001b[1;33m]\u001b[0m\u001b[1;33m\u001b[0m\u001b[0m\n\u001b[0;32m   4550\u001b[0m \u001b[1;33m\u001b[0m\u001b[0m\n",
      "\u001b[1;31mMemoryError\u001b[0m: "
     ]
    }
   ],
   "source": [
    "dict_weather={}\n",
    "\n",
    "for param in [\"outdoor_temperature\",\"outdoor_humidity\",\"wind_speed\"]:\n",
    "    list_df=[]\n",
    "    for station in df_department[\"station_name\"].unique()[:5]:\n",
    "    #     print(station)\n",
    "        df_weather=pd.read_csv(\"../../../../../../Data/weatherunderground_airportfrance/csv_clean/{}.csv\".format(station))\n",
    "        df_weather[\"tstp\"]=pd.to_datetime(df_weather[\"tstp\"])\n",
    "\n",
    "        df_weather=df_weather.set_index([\"tstp\"])\n",
    "        df_weather=df_weather[[param]].resample('1T').interpolate(method='linear')\n",
    "        \n",
    "        \n",
    "        \n",
    "        \n",
    "        list_df.append(df_coefficient.loc[station]*df_weather)\n",
    "\n",
    "    df_tot=pd.concat(list_df,axis=1)\n",
    "    print(df_tot.head())\n",
    "    df_tot=df_tot.dropna()\n",
    "    \n",
    "    dict_weather[param]=df_tot.sum(axis=1)\n",
    "    \n",
    "    \n",
    "    "
   ]
  },
  {
   "cell_type": "code",
   "execution_count": null,
   "metadata": {},
   "outputs": [],
   "source": [
    "dict_weather"
   ]
  },
  {
   "cell_type": "code",
   "execution_count": null,
   "metadata": {
    "collapsed": true
   },
   "outputs": [],
   "source": []
  }
 ],
 "metadata": {
  "kernelspec": {
   "display_name": "Python 3",
   "language": "python",
   "name": "python3"
  },
  "language_info": {
   "codemirror_mode": {
    "name": "ipython",
    "version": 3
   },
   "file_extension": ".py",
   "mimetype": "text/x-python",
   "name": "python",
   "nbconvert_exporter": "python",
   "pygments_lexer": "ipython3",
   "version": "3.6.2"
  }
 },
 "nbformat": 4,
 "nbformat_minor": 2
}
