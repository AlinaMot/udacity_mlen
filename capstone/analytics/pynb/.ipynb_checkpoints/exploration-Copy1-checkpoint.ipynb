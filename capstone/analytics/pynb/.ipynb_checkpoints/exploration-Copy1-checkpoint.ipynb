{
 "cells": [
  {
   "cell_type": "code",
   "execution_count": 1,
   "metadata": {
    "collapsed": true
   },
   "outputs": [],
   "source": [
    "import os\n",
    "import sys\n",
    "\n",
    "from sqlalchemy import create_engine\n",
    "import sqlite3\n",
    "\n",
    "import pandas as pd"
   ]
  },
  {
   "cell_type": "code",
   "execution_count": 2,
   "metadata": {},
   "outputs": [
    {
     "name": "stdout",
     "output_type": "stream",
     "text": [
      "[('weather_data',), ('weather_stations',), ('cities_informations',)]\n"
     ]
    }
   ],
   "source": [
    "#Collect the RTE data\n",
    "\n",
    "file=\"D:\\Developpement\\Perso\\Data\\weatherunderground_airportfrance\\database.sqlite\"\n",
    "conn = sqlite3.connect(file)\n",
    "c = conn.cursor()\n",
    "c.execute(\"SELECT name FROM sqlite_master WHERE type='table';\")\n",
    "print(c.fetchall())"
   ]
  },
  {
   "cell_type": "code",
   "execution_count": 20,
   "metadata": {
    "collapsed": true
   },
   "outputs": [],
   "source": [
    "conn = sqlite3.connect(file)\n",
    "df=pd.read_sql_query(\"select * from weather_stations;\", conn)\n",
    "conn.close()"
   ]
  },
  {
   "cell_type": "code",
   "execution_count": 21,
   "metadata": {},
   "outputs": [
    {
     "data": {
      "text/html": [
       "<div>\n",
       "<style>\n",
       "    .dataframe thead tr:only-child th {\n",
       "        text-align: right;\n",
       "    }\n",
       "\n",
       "    .dataframe thead th {\n",
       "        text-align: left;\n",
       "    }\n",
       "\n",
       "    .dataframe tbody tr th {\n",
       "        vertical-align: top;\n",
       "    }\n",
       "</style>\n",
       "<table border=\"1\" class=\"dataframe\">\n",
       "  <thead>\n",
       "    <tr style=\"text-align: right;\">\n",
       "      <th></th>\n",
       "      <th>station_name</th>\n",
       "      <th>latitude</th>\n",
       "      <th>longitude</th>\n",
       "    </tr>\n",
       "  </thead>\n",
       "  <tbody>\n",
       "    <tr>\n",
       "      <th>count</th>\n",
       "      <td>73</td>\n",
       "      <td>73</td>\n",
       "      <td>73</td>\n",
       "    </tr>\n",
       "    <tr>\n",
       "      <th>unique</th>\n",
       "      <td>73</td>\n",
       "      <td>71</td>\n",
       "      <td>73</td>\n",
       "    </tr>\n",
       "    <tr>\n",
       "      <th>top</th>\n",
       "      <td>LFOA</td>\n",
       "      <td>48.58000183</td>\n",
       "      <td>0.72000003</td>\n",
       "    </tr>\n",
       "    <tr>\n",
       "      <th>freq</th>\n",
       "      <td>1</td>\n",
       "      <td>2</td>\n",
       "      <td>1</td>\n",
       "    </tr>\n",
       "  </tbody>\n",
       "</table>\n",
       "</div>"
      ],
      "text/plain": [
       "       station_name     latitude   longitude\n",
       "count            73           73          73\n",
       "unique           73           71          73\n",
       "top            LFOA  48.58000183  0.72000003\n",
       "freq              1            2           1"
      ]
     },
     "execution_count": 21,
     "metadata": {},
     "output_type": "execute_result"
    }
   ],
   "source": [
    "df.describe()"
   ]
  },
  {
   "cell_type": "code",
   "execution_count": 22,
   "metadata": {},
   "outputs": [
    {
     "data": {
      "text/html": [
       "<iframe id=\"igraph\" scrolling=\"no\" style=\"border:none;\" seamless=\"seamless\" src=\"https://plot.ly/~jeanmidev/8.embed\" height=\"525px\" width=\"100%\"></iframe>"
      ],
      "text/plain": [
       "<plotly.tools.PlotlyDisplay object>"
      ]
     },
     "execution_count": 22,
     "metadata": {},
     "output_type": "execute_result"
    }
   ],
   "source": [
    "import plotly.plotly as py\n",
    "import pandas as pd\n",
    "\n",
    "data = [ dict(\n",
    "        type = 'scattergeo',\n",
    "        lon = df['longitude'],\n",
    "        lat = df['latitude'],\n",
    "        text = df['station_name'],\n",
    "        mode = 'markers'\n",
    "        )]\n",
    "\n",
    "layout = {}\n",
    "\n",
    "fig = dict( data=data, layout=layout )\n",
    "py.iplot( fig, validate=False, filename='d3-airports' )"
   ]
  },
  {
   "cell_type": "code",
   "execution_count": 28,
   "metadata": {},
   "outputs": [
    {
     "name": "stdout",
     "output_type": "stream",
     "text": [
      "[('national_peak',), ('regional_peak',), ('30m_national_production',), ('30m_national_consumption',), ('yearly_regional_production',), ('yearly_regional_consumption',)]\n"
     ]
    }
   ],
   "source": [
    "file=\"D:\\Developpement\\Perso\\Data\\RTE\\database.sqlite\"\n",
    "conn2 = sqlite3.connect(file)\n",
    "c = conn2.cursor()\n",
    "c.execute(\"SELECT name FROM sqlite_master WHERE type='table';\")\n",
    "print(c.fetchall())"
   ]
  },
  {
   "cell_type": "code",
   "execution_count": 29,
   "metadata": {
    "collapsed": true
   },
   "outputs": [],
   "source": [
    "df=pd.read_sql_query(\"select * from regional_peak;\", conn2)"
   ]
  },
  {
   "cell_type": "code",
   "execution_count": 26,
   "metadata": {},
   "outputs": [
    {
     "data": {
      "text/html": [
       "<div>\n",
       "<style>\n",
       "    .dataframe thead tr:only-child th {\n",
       "        text-align: right;\n",
       "    }\n",
       "\n",
       "    .dataframe thead th {\n",
       "        text-align: left;\n",
       "    }\n",
       "\n",
       "    .dataframe tbody tr th {\n",
       "        vertical-align: top;\n",
       "    }\n",
       "</style>\n",
       "<table border=\"1\" class=\"dataframe\">\n",
       "  <thead>\n",
       "    <tr style=\"text-align: right;\">\n",
       "      <th></th>\n",
       "      <th>region</th>\n",
       "      <th>day</th>\n",
       "      <th>hour</th>\n",
       "      <th>consumption</th>\n",
       "    </tr>\n",
       "  </thead>\n",
       "  <tbody>\n",
       "    <tr>\n",
       "      <th>0</th>\n",
       "      <td>GRAND-EST</td>\n",
       "      <td>2008-01-03 00:00:00.000000</td>\n",
       "      <td>18:00:00</td>\n",
       "      <td>7655</td>\n",
       "    </tr>\n",
       "    <tr>\n",
       "      <th>1</th>\n",
       "      <td>GRAND-EST</td>\n",
       "      <td>2015-02-05 00:00:00.000000</td>\n",
       "      <td>18:00:00</td>\n",
       "      <td>8353</td>\n",
       "    </tr>\n",
       "    <tr>\n",
       "      <th>2</th>\n",
       "      <td>NOUVELLE-AQUITAINE</td>\n",
       "      <td>2011-01-04 00:00:00.000000</td>\n",
       "      <td>18:00:00</td>\n",
       "      <td>8618</td>\n",
       "    </tr>\n",
       "    <tr>\n",
       "      <th>3</th>\n",
       "      <td>NOUVELLE-AQUITAINE</td>\n",
       "      <td>2015-02-06 00:00:00.000000</td>\n",
       "      <td>12:00:00</td>\n",
       "      <td>9170</td>\n",
       "    </tr>\n",
       "    <tr>\n",
       "      <th>4</th>\n",
       "      <td>CENTRE-VAL DE LOIRE</td>\n",
       "      <td>2009-01-09 00:00:00.000000</td>\n",
       "      <td>07:30:00</td>\n",
       "      <td>4171</td>\n",
       "    </tr>\n",
       "  </tbody>\n",
       "</table>\n",
       "</div>"
      ],
      "text/plain": [
       "                region                         day      hour  consumption\n",
       "0            GRAND-EST  2008-01-03 00:00:00.000000  18:00:00         7655\n",
       "1            GRAND-EST  2015-02-05 00:00:00.000000  18:00:00         8353\n",
       "2   NOUVELLE-AQUITAINE  2011-01-04 00:00:00.000000  18:00:00         8618\n",
       "3   NOUVELLE-AQUITAINE  2015-02-06 00:00:00.000000  12:00:00         9170\n",
       "4  CENTRE-VAL DE LOIRE  2009-01-09 00:00:00.000000  07:30:00         4171"
      ]
     },
     "execution_count": 26,
     "metadata": {},
     "output_type": "execute_result"
    }
   ],
   "source": [
    "df.head()"
   ]
  },
  {
   "cell_type": "code",
   "execution_count": 31,
   "metadata": {
    "collapsed": true
   },
   "outputs": [],
   "source": [
    "df_cities=pd.read_sql_query(\"select * from cities_informations;\",conn)"
   ]
  },
  {
   "cell_type": "code",
   "execution_count": 32,
   "metadata": {},
   "outputs": [
    {
     "data": {
      "text/html": [
       "<div>\n",
       "<style>\n",
       "    .dataframe thead tr:only-child th {\n",
       "        text-align: right;\n",
       "    }\n",
       "\n",
       "    .dataframe thead th {\n",
       "        text-align: left;\n",
       "    }\n",
       "\n",
       "    .dataframe tbody tr th {\n",
       "        vertical-align: top;\n",
       "    }\n",
       "</style>\n",
       "<table border=\"1\" class=\"dataframe\">\n",
       "  <thead>\n",
       "    <tr style=\"text-align: right;\">\n",
       "      <th></th>\n",
       "      <th>name</th>\n",
       "      <th>type</th>\n",
       "      <th>department</th>\n",
       "      <th>code_department</th>\n",
       "      <th>region</th>\n",
       "      <th>code_region</th>\n",
       "      <th>population</th>\n",
       "      <th>area</th>\n",
       "      <th>latitude</th>\n",
       "      <th>longitude</th>\n",
       "    </tr>\n",
       "  </thead>\n",
       "  <tbody>\n",
       "    <tr>\n",
       "      <th>0</th>\n",
       "      <td>LOURTIES-MONBRUN</td>\n",
       "      <td>COMMUNE SIMPLE</td>\n",
       "      <td>32</td>\n",
       "      <td>GERS</td>\n",
       "      <td>76</td>\n",
       "      <td>LANGUEDOC-ROUSSILLON-MIDI-PYRENEES</td>\n",
       "      <td>139</td>\n",
       "      <td>9.66</td>\n",
       "      <td>43.459799</td>\n",
       "      <td>0.535802</td>\n",
       "    </tr>\n",
       "    <tr>\n",
       "      <th>1</th>\n",
       "      <td>BOUDY-DE-BEAUREGARD</td>\n",
       "      <td>COMMUNE SIMPLE</td>\n",
       "      <td>47</td>\n",
       "      <td>LOT-ET-GARONNE</td>\n",
       "      <td>75</td>\n",
       "      <td>AQUITAINE-LIMOUSIN-POITOU-CHARENTES</td>\n",
       "      <td>414</td>\n",
       "      <td>10.19</td>\n",
       "      <td>44.548109</td>\n",
       "      <td>0.677957</td>\n",
       "    </tr>\n",
       "    <tr>\n",
       "      <th>2</th>\n",
       "      <td>ARMOUS-ET-CAU</td>\n",
       "      <td>COMMUNE SIMPLE</td>\n",
       "      <td>32</td>\n",
       "      <td>GERS</td>\n",
       "      <td>76</td>\n",
       "      <td>LANGUEDOC-ROUSSILLON-MIDI-PYRENEES</td>\n",
       "      <td>95</td>\n",
       "      <td>9.32</td>\n",
       "      <td>43.573144</td>\n",
       "      <td>0.190291</td>\n",
       "    </tr>\n",
       "    <tr>\n",
       "      <th>3</th>\n",
       "      <td>AUTRANS-MEAUDRE EN VERCORS</td>\n",
       "      <td>COMMUNE SIMPLE</td>\n",
       "      <td>38</td>\n",
       "      <td>ISERE</td>\n",
       "      <td>84</td>\n",
       "      <td>AUVERGNE-RHONE-ALPES</td>\n",
       "      <td>2973</td>\n",
       "      <td>33.71</td>\n",
       "      <td>45.135052</td>\n",
       "      <td>5.527164</td>\n",
       "    </tr>\n",
       "    <tr>\n",
       "      <th>4</th>\n",
       "      <td>WILLEMAN</td>\n",
       "      <td>COMMUNE SIMPLE</td>\n",
       "      <td>62</td>\n",
       "      <td>PAS-DE-CALAIS</td>\n",
       "      <td>32</td>\n",
       "      <td>NORD-PAS-DE-CALAIS-PICARDIE</td>\n",
       "      <td>178</td>\n",
       "      <td>10.23</td>\n",
       "      <td>50.363923</td>\n",
       "      <td>2.159486</td>\n",
       "    </tr>\n",
       "  </tbody>\n",
       "</table>\n",
       "</div>"
      ],
      "text/plain": [
       "                         name            type department code_department  \\\n",
       "0            LOURTIES-MONBRUN  COMMUNE SIMPLE         32            GERS   \n",
       "1         BOUDY-DE-BEAUREGARD  COMMUNE SIMPLE         47  LOT-ET-GARONNE   \n",
       "2               ARMOUS-ET-CAU  COMMUNE SIMPLE         32            GERS   \n",
       "3  AUTRANS-MEAUDRE EN VERCORS  COMMUNE SIMPLE         38           ISERE   \n",
       "4                    WILLEMAN  COMMUNE SIMPLE         62   PAS-DE-CALAIS   \n",
       "\n",
       "   region                          code_region  population   area   latitude  \\\n",
       "0      76   LANGUEDOC-ROUSSILLON-MIDI-PYRENEES         139   9.66  43.459799   \n",
       "1      75  AQUITAINE-LIMOUSIN-POITOU-CHARENTES         414  10.19  44.548109   \n",
       "2      76   LANGUEDOC-ROUSSILLON-MIDI-PYRENEES          95   9.32  43.573144   \n",
       "3      84                 AUVERGNE-RHONE-ALPES        2973  33.71  45.135052   \n",
       "4      32          NORD-PAS-DE-CALAIS-PICARDIE         178  10.23  50.363923   \n",
       "\n",
       "   longitude  \n",
       "0   0.535802  \n",
       "1   0.677957  \n",
       "2   0.190291  \n",
       "3   5.527164  \n",
       "4   2.159486  "
      ]
     },
     "execution_count": 32,
     "metadata": {},
     "output_type": "execute_result"
    }
   ],
   "source": [
    "df_cities.head()"
   ]
  },
  {
   "cell_type": "code",
   "execution_count": 34,
   "metadata": {
    "collapsed": true
   },
   "outputs": [],
   "source": [
    "list_code_region=df_cities[\"code_region\"].unique()"
   ]
  },
  {
   "cell_type": "code",
   "execution_count": 35,
   "metadata": {
    "collapsed": true
   },
   "outputs": [],
   "source": [
    "list_region=df[\"region\"].unique()"
   ]
  },
  {
   "cell_type": "code",
   "execution_count": 40,
   "metadata": {},
   "outputs": [
    {
     "name": "stdout",
     "output_type": "stream",
     "text": [
      "GRAND-EST NOT OK\n",
      "NOUVELLE-AQUITAINE NOT OK\n",
      "OCCITANIE NOT OK\n",
      "HAUTS-DE-FRANCE NOT OK\n"
     ]
    }
   ],
   "source": [
    "dict_region={\n",
    "    \"GRAND-EST\":\"ALSACE-CHAMPAGNE-ARDENNE-LORRAINE\",\n",
    "    \"NOUVELLE-AQUITAINE\":'AQUITAINE-LIMOUSIN-POITOU-CHARENTES',\n",
    "    \"HAUTS-DE-FRANCE\":'NORD-PAS-DE-CALAIS-PICARDIE',\n",
    "    \"OCCITANIE\":'LANGUEDOC-ROUSSILLON-MIDI-PYRENEES',\n",
    "}\n",
    "\n",
    "for region in list_region:\n",
    "    if region in list_code_region:\n",
    "        dict_region[region]=region\n",
    "    else:\n",
    "        print(region,\"NOT OK\")"
   ]
  },
  {
   "cell_type": "raw",
   "metadata": {},
   "source": [
    "list_code_region"
   ]
  },
  {
   "cell_type": "code",
   "execution_count": 41,
   "metadata": {},
   "outputs": [
    {
     "data": {
      "text/plain": [
       "{'AUVERGNE-RHONE-ALPES': 'AUVERGNE-RHONE-ALPES',\n",
       " 'BOURGOGNE-FRANCHE-COMTE': 'BOURGOGNE-FRANCHE-COMTE',\n",
       " 'BRETAGNE': 'BRETAGNE',\n",
       " 'CENTRE-VAL DE LOIRE': 'CENTRE-VAL DE LOIRE',\n",
       " 'GRAND-EST': 'ALSACE-CHAMPAGNE-ARDENNE-LORRAINE',\n",
       " 'HAUTS-DE-FRANCE': 'NORD-PAS-DE-CALAIS-PICARDIE',\n",
       " 'ILE-DE-FRANCE': 'ILE-DE-FRANCE',\n",
       " 'NORMANDIE': 'NORMANDIE',\n",
       " 'NOUVELLE-AQUITAINE': 'AQUITAINE-LIMOUSIN-POITOU-CHARENTES',\n",
       " 'OCCITANIE': 'LANGUEDOC-ROUSSILLON-MIDI-PYRENEES',\n",
       " 'PAYS DE LA LOIRE': 'PAYS DE LA LOIRE',\n",
       " \"PROVENCE-ALPES-COTE D'AZUR\": \"PROVENCE-ALPES-COTE D'AZUR\"}"
      ]
     },
     "execution_count": 41,
     "metadata": {},
     "output_type": "execute_result"
    }
   ],
   "source": [
    "dict_region"
   ]
  },
  {
   "cell_type": "code",
   "execution_count": 43,
   "metadata": {
    "collapsed": true
   },
   "outputs": [],
   "source": [
    "import json\n",
    "with open(\"D:\\Developpement\\Perso\\Data\\RTE\\link_RTEregion_IGNcoderegion.json\",\"w\") as file:\n",
    "    json.dump(dict_region,file)\n",
    "    "
   ]
  },
  {
   "cell_type": "code",
   "execution_count": null,
   "metadata": {
    "collapsed": true
   },
   "outputs": [],
   "source": []
  }
 ],
 "metadata": {
  "kernelspec": {
   "display_name": "Python 3",
   "language": "python",
   "name": "python3"
  },
  "language_info": {
   "codemirror_mode": {
    "name": "ipython",
    "version": 3
   },
   "file_extension": ".py",
   "mimetype": "text/x-python",
   "name": "python",
   "nbconvert_exporter": "python",
   "pygments_lexer": "ipython3",
   "version": "3.5.3"
  }
 },
 "nbformat": 4,
 "nbformat_minor": 2
}
